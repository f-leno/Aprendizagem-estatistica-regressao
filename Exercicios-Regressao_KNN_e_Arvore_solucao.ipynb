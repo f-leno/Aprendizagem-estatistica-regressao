{
 "cells": [
  {
   "cell_type": "markdown",
   "metadata": {},
   "source": [
    "## KNN e Árvore de Regressão\n",
    "\n",
    "O objetivo deste exercício é se aprofundar nos conceitos de regressão e implementar os algoritmos de K-vizinhos mais próximos (KNN) e Árvore de Regressão.\n",
    "\n",
    "Utilizaremos as mesmas bases de dados do exercício anterior:"
   ]
  },
  {
   "cell_type": "code",
   "execution_count": 3,
   "metadata": {},
   "outputs": [],
   "source": [
    "import pandas as pd\n",
    "\n",
    "dados_adv = pd.read_csv('Advertising.csv', index_col=0)\n",
    "\n",
    "dados_por = pd.read_csv('Portland_housePrices.csv', index_col=None)\n",
    "\n",
    "X = dados_por.loc[:,['tamanho']]\n",
    "y = dados_por.loc[:,['preco']]"
   ]
  },
  {
   "cell_type": "markdown",
   "metadata": {},
   "source": [
    "O algoritmo KNN é implementado pela classe <a href=\"https://scikit-learn.org/stable/modules/generated/sklearn.neighbors.KNeighborsRegressor.html\">KNeighborsRegressor</a>:"
   ]
  },
  {
   "cell_type": "code",
   "execution_count": 5,
   "metadata": {},
   "outputs": [
    {
     "data": {
      "text/plain": [
       "KNeighborsRegressor(algorithm='auto', leaf_size=30, metric='minkowski',\n",
       "                    metric_params=None, n_jobs=None, n_neighbors=2, p=2,\n",
       "                    weights='uniform')"
      ]
     },
     "execution_count": 5,
     "metadata": {},
     "output_type": "execute_result"
    }
   ],
   "source": [
    "from sklearn.neighbors import KNeighborsRegressor\n",
    "neigh = KNeighborsRegressor(n_neighbors=2,weights='uniform')\n",
    "neigh.fit(X,y)"
   ]
  },
  {
   "cell_type": "markdown",
   "metadata": {},
   "source": [
    "Aqui, o algoritmo é configurado com K = 2 e o peso de cada instância é definido uniformemente.\n",
    "\n",
    "O \"formato\" do modelo aprendido pelo KNN é bem diferente do aprendido pela regressão linear:"
   ]
  },
  {
   "cell_type": "code",
   "execution_count": 10,
   "metadata": {},
   "outputs": [
    {
     "ename": "NameError",
     "evalue": "name 'neigh' is not defined",
     "output_type": "error",
     "traceback": [
      "\u001b[0;31m---------------------------------------------------------------------------\u001b[0m",
      "\u001b[0;31mNameError\u001b[0m                                 Traceback (most recent call last)",
      "\u001b[0;32m<ipython-input-10-8749d11f691a>\u001b[0m in \u001b[0;36m<module>\u001b[0;34m\u001b[0m\n\u001b[1;32m      7\u001b[0m \u001b[0;34m\u001b[0m\u001b[0m\n\u001b[1;32m      8\u001b[0m \u001b[0mT\u001b[0m \u001b[0;34m=\u001b[0m \u001b[0mnp\u001b[0m\u001b[0;34m.\u001b[0m\u001b[0mlinspace\u001b[0m\u001b[0;34m(\u001b[0m\u001b[0mmin\u001b[0m\u001b[0;34m(\u001b[0m\u001b[0mX\u001b[0m\u001b[0;34m.\u001b[0m\u001b[0mvalues\u001b[0m\u001b[0;34m.\u001b[0m\u001b[0mravel\u001b[0m\u001b[0;34m(\u001b[0m\u001b[0;34m)\u001b[0m\u001b[0;34m)\u001b[0m\u001b[0;34m,\u001b[0m\u001b[0mmax\u001b[0m\u001b[0;34m(\u001b[0m\u001b[0mX\u001b[0m\u001b[0;34m.\u001b[0m\u001b[0mvalues\u001b[0m\u001b[0;34m.\u001b[0m\u001b[0mravel\u001b[0m\u001b[0;34m(\u001b[0m\u001b[0;34m)\u001b[0m\u001b[0;34m)\u001b[0m\u001b[0;34m,\u001b[0m \u001b[0;36m500\u001b[0m \u001b[0;34m)\u001b[0m\u001b[0;34m[\u001b[0m\u001b[0;34m:\u001b[0m\u001b[0;34m,\u001b[0m \u001b[0mnp\u001b[0m\u001b[0;34m.\u001b[0m\u001b[0mnewaxis\u001b[0m\u001b[0;34m]\u001b[0m\u001b[0;34m\u001b[0m\u001b[0;34m\u001b[0m\u001b[0m\n\u001b[0;32m----> 9\u001b[0;31m \u001b[0my_\u001b[0m \u001b[0;34m=\u001b[0m \u001b[0mneigh\u001b[0m\u001b[0;34m.\u001b[0m\u001b[0mpredict\u001b[0m\u001b[0;34m(\u001b[0m\u001b[0mT\u001b[0m\u001b[0;34m)\u001b[0m\u001b[0;34m\u001b[0m\u001b[0;34m\u001b[0m\u001b[0m\n\u001b[0m\u001b[1;32m     10\u001b[0m \u001b[0;34m\u001b[0m\u001b[0m\n\u001b[1;32m     11\u001b[0m \u001b[0;34m\u001b[0m\u001b[0m\n",
      "\u001b[0;31mNameError\u001b[0m: name 'neigh' is not defined"
     ]
    }
   ],
   "source": [
    "from sklearn.linear_model import LinearRegression\n",
    "from matplotlib import pyplot as plt\n",
    "import numpy as np\n",
    "\n",
    "\n",
    "linear = LinearRegression().fit(X,y)\n",
    "\n",
    "T = np.linspace(min(X.values.ravel()),max(X.values.ravel()), 500 )[:, np.newaxis]\n",
    "y_ = neigh.predict(T)\n",
    "\n",
    "\n",
    "plt.scatter(X, y,color='g')\n",
    "plt.plot(T, y_,color='b')\n",
    "plt.plot(X, linear.predict(X),color='r')\n",
    "\n",
    "plt.xlabel('Tamanho (pe2)')\n",
    "plt.ylabel('Preço')"
   ]
  },
  {
   "cell_type": "markdown",
   "metadata": {},
   "source": [
    "A parametrização K e o peso das instâncias podem ser alteradas no momento da instanciação do objeto, por exemplo:\n",
    "    \n",
    "```python\n",
    "    neigh = KNeighborsRegressor(n_neighbors=3,weights='uniform') # K = 3, peso uniforme\n",
    "    neigh = KNeighborsRegressor(n_neighbors=2,weights='distance') # K = 2, peso baseado na distância\n",
    "```    \n",
    "\n",
    "## Exercício 1\n",
    "\n",
    "Para as duas bases de treinamento de regressão (<i>Advertising</i> e <i>Portland_housePrices</i>), avalie quais são as melhores parametrizações (use inspeção visual e RSS/R^2).\n",
    "    \n",
    "    "
   ]
  },
  {
   "cell_type": "code",
   "execution_count": null,
   "metadata": {},
   "outputs": [],
   "source": []
  },
  {
   "cell_type": "markdown",
   "metadata": {},
   "source": [
    "## Árvore de Regressão\n",
    "\n",
    "A árvore de decisão é implementada através da classe <a href=\"https://scikit-learn.org/stable/modules/generated/sklearn.tree.DecisionTreeRegressor.html\">DecisionTreeRegressor</a>.\n"
   ]
  },
  {
   "cell_type": "code",
   "execution_count": 4,
   "metadata": {},
   "outputs": [
    {
     "data": {
      "text/plain": [
       "DecisionTreeRegressor(ccp_alpha=0.0, criterion='mse', max_depth=None,\n",
       "                      max_features=None, max_leaf_nodes=None,\n",
       "                      min_impurity_decrease=0.0, min_impurity_split=None,\n",
       "                      min_samples_leaf=1, min_samples_split=2,\n",
       "                      min_weight_fraction_leaf=0.0, presort='deprecated',\n",
       "                      random_state=None, splitter='best')"
      ]
     },
     "execution_count": 4,
     "metadata": {},
     "output_type": "execute_result"
    }
   ],
   "source": [
    "from sklearn.tree import DecisionTreeRegressor  \n",
    "#Regression tree\n",
    "# create a regressor object \n",
    "tree = DecisionTreeRegressor()  \n",
    "  \n",
    "    \n",
    "\n",
    "# fit the regressor with X and Y data \n",
    "tree.fit(X, y) "
   ]
  },
  {
   "cell_type": "code",
   "execution_count": 23,
   "metadata": {},
   "outputs": [
    {
     "data": {
      "text/plain": [
       "Text(0, 0.5, 'Preço')"
      ]
     },
     "execution_count": 23,
     "metadata": {},
     "output_type": "execute_result"
    },
    {
     "data": {
      "image/png": "[encoded data removed]",
      "text/plain": [
       "<Figure size 432x288 with 1 Axes>"
      ]
     },
     "metadata": {
      "needs_background": "light"
     },
     "output_type": "display_data"
    }
   ],
   "source": [
    "plt.scatter(X, y,color='g')\n",
    "y_t = tree.predict(T)\n",
    "plt.plot(T, y_t,color='b')\n",
    "\n",
    "plt.xlabel('Tamanho (pe2)')\n",
    "plt.ylabel('Preço')"
   ]
  },
  {
   "cell_type": "markdown",
   "metadata": {},
   "source": [
    "É possível também gerar a árvore resultante para visualização:"
   ]
  },
  {
   "cell_type": "code",
   "execution_count": 24,
   "metadata": {},
   "outputs": [],
   "source": [
    "from sklearn.tree import export_graphviz  \n",
    " \n",
    "\n",
    "export_graphviz(regressor, out_file ='tree.dot', \n",
    "               feature_names =['Tamanho'])"
   ]
  },
  {
   "cell_type": "markdown",
   "metadata": {},
   "source": [
    "Este código irá gerar um arquivo <b>tree.dot</b>.\n",
    "\n",
    "Esse arquivo pode ser visualizado no site <a href='http://www.webgraphviz.com/'>http://www.webgraphviz.com</a>"
   ]
  },
  {
   "cell_type": "markdown",
   "metadata": {},
   "source": [
    "## Exercício 2\n",
    "\n",
    "Qual seria o melhor método para montar um modelo em cada uma das bases com Árvore de Decisão?\n",
    "\n",
    "Utilizar apenas um atributo? multiplos? quais seriam?"
   ]
  },
  {
   "cell_type": "code",
   "execution_count": 19,
   "metadata": {},
   "outputs": [
    {
     "name": "stdout",
     "output_type": "stream",
     "text": [
      "Scores R^2:\n",
      "tam:       1.0\n",
      "qua:       0.2832148809431506\n",
      "tam + qua: 1.0\n"
     ]
    },
    {
     "data": {
      "text/plain": [
       "[Text(0, 0.5, 'Preço'), Text(0.5, 0, 'Quartos')]"
      ]
     },
     "execution_count": 19,
     "metadata": {},
     "output_type": "execute_result"
    },
    {
     "data": {
      "image/png": "[encoded data removed]",
      "text/plain": [
       "<Figure size 432x288 with 2 Axes>"
      ]
     },
     "metadata": {
      "needs_background": "light"
     },
     "output_type": "display_data"
    }
   ],
   "source": [
    "from sklearn.metrics import r2_score\n",
    "\n",
    "\n",
    "X_tam = dados_por.loc[:,['tamanho']]\n",
    "X_qua = dados_por.loc[:,['quartos']]\n",
    "X_all = dados_por.loc[:,['tamanho','quartos']]\n",
    "y = dados_por.loc[:,['preco']]\n",
    "\n",
    "tree_tam = DecisionTreeRegressor().fit(X_tam,y)\n",
    "r2_tam = r2_score(y,tree_tam.predict(X_tam))\n",
    "\n",
    "tree_qua = DecisionTreeRegressor().fit(X_qua,y)\n",
    "r2_qua = r2_score(y,tree_qua.predict(X_qua))\n",
    "\n",
    "tree = DecisionTreeRegressor().fit(X_all,y)\n",
    "r2_all = r2_score(y,tree.predict(X_all))\n",
    "\n",
    "print(\"Scores R^2:\")\n",
    "print(\"tam:       \"+str(r2_tam))\n",
    "print(\"qua:       \"+str(r2_qua))\n",
    "print(\"tam + qua: \"+str(r2_all))\n",
    "\n",
    "fig, axs = plt.subplots(2)\n",
    "\n",
    "\n",
    "T = np.linspace(min(X_tam.values.ravel()),max(X_tam.values.ravel()), 500 )[:, np.newaxis]\n",
    "axs[0].scatter(X_tam, y,color='g')\n",
    "y_t = tree_tam.predict(T)\n",
    "axs[0].plot(T, y_t,color='b')\n",
    "\n",
    "axs[0].set(xlabel='Tamanho (pe2)',ylabel='Preço')\n",
    "\n",
    "\n",
    "\n",
    "T = np.linspace(min(X_qua.values.ravel()),max(X_qua.values.ravel()), 500 )[:, np.newaxis]\n",
    "axs[1].scatter(X_qua, y,color='g')\n",
    "y_t = tree_qua.predict(T)\n",
    "axs[1].plot(T, y_t,color='r')\n",
    "\n",
    "axs[1].set(xlabel='Quartos',ylabel='Preço')\n",
    "\n",
    "\n"
   ]
  },
  {
   "cell_type": "markdown",
   "metadata": {},
   "source": [
    "## Comparação entre modelos\n",
    "\n",
    "Agora já sabemos como implementar um modelo linear multivariado:\n",
    "\n",
    "```python\n",
    "from sklearn.linear_model import LinearRegression\n",
    "linear = LinearRegression().fit(X,y)\n",
    "```\n",
    "\n",
    "como implementar o regressor KNN:\n",
    "\n",
    "```python\n",
    "from sklearn.neighbors import KNeighborsRegressor\n",
    "neigh = KNeighborsRegressor().fit(X,y)\n",
    "```\n",
    "\n",
    "e como implementar uma árvore de regressão:\n",
    "\n",
    "```python\n",
    "from sklearn.tree import DecisionTreeRegressor  \n",
    "tree = DecisionTreeRegressor().fit(X,y)\n",
    "```\n",
    "\n",
    "Conhecemos todos os algoritmos e seus parâmetros, agora como decidir <b>qual</b> deles usar efetivamente? Olhar o <i>fitting</i> em sua base de dados e tomar isso como verdade absoluta pode ser completamente enganoso.\n",
    "\n",
    "Podemos tentar <i>aliviar</i> esse problema fazendo uma comparação mais inteligente\n",
    "\n",
    "## Exercício 3\n",
    "\n",
    "1) Separe as bases <i>Portland_housePrices</i> e <i>Advertising</i> em conjuntos de <i>treinamento</i> e <i>teste</i> (30% das instâncias para teste e 70% para treinamento).\n",
    "\n",
    "2) Utilize as bases de treinamento para treinar os modelos a serem avaliados, e as bases de teste para avaliar o desempenho regressor dos modelos.\n",
    "\n",
    "3) Qual é o melhor modelo para cada problema? Por que você fez essa recomendação? (mostre métricas, gráficos, ou as evidências que julgar necessárias)."
   ]
  },
  {
   "cell_type": "code",
   "execution_count": 28,
   "metadata": {},
   "outputs": [
    {
     "name": "stdout",
     "output_type": "stream",
     "text": [
      "Scores R^2 Treino:\n",
      "Arvore:       1.0\n",
      "KNN:       0.6786799851973542\n",
      "linear: 0.6613691218880995\n",
      "Scores R^2 Teste:\n",
      "Arvore:       0.5904996452420646\n",
      "KNN:       0.7107359336892317\n",
      "linear: 0.8025567412958988\n"
     ]
    }
   ],
   "source": [
    "import numpy as np\n",
    "#30% de teste, 70% de treinamento\n",
    "msk_por = np.random.rand(len(dados_por)) < 0.7\n",
    "\n",
    "train_por = dados_por[msk_por]\n",
    "test_por = dados_por[~msk_por]\n",
    "\n",
    "X_train = train_por.loc[:,['tamanho','quartos']]\n",
    "X_test  = test_por.loc[:,['tamanho','quartos']]\n",
    "y_train = train_por.loc[:,['preco']]\n",
    "y_test  = test_por.loc[:,['preco']]\n",
    "\n",
    "\n",
    "tree = DecisionTreeRegressor().fit(X_train,y_train)\n",
    "r2_tree = r2_score(y_test,tree.predict(X_test))\n",
    "r2_tree_treino = r2_score(y_train,tree.predict(X_train))\n",
    "\n",
    "from sklearn.neighbors import KNeighborsRegressor\n",
    "neigh = KNeighborsRegressor().fit(X_train,y_train)\n",
    "r2_neigh = r2_score(y_test,neigh.predict(X_test))\n",
    "r2_neigh_treino = r2_score(y_train,neigh.predict(X_train))\n",
    "\n",
    "from sklearn.linear_model import LinearRegression\n",
    "linear = LinearRegression().fit(X_train,y_train)\n",
    "r2_linear = r2_score(y_test,linear.predict(X_test))\n",
    "r2_linear_treino = r2_score(y_train,linear.predict(X_train))\n",
    "\n",
    "\n",
    "print(\"Scores R^2 Treino:\")\n",
    "print(\"Arvore:       \"+str(r2_tree_treino))\n",
    "print(\"KNN:       \"+str(r2_neigh_treino))\n",
    "print(\"linear: \"+str(r2_linear_treino))\n",
    "\n",
    "\n",
    "print(\"Scores R^2 Teste:\")\n",
    "print(\"Arvore:       \"+str(r2_tree))\n",
    "print(\"KNN:       \"+str(r2_neigh))\n",
    "print(\"linear: \"+str(r2_linear))\n",
    "\n"
   ]
  },
  {
   "cell_type": "code",
   "execution_count": null,
   "metadata": {},
   "outputs": [],
   "source": [
    "X_train = train_por.loc[:,['tamanho']]\n",
    "X_test  = test_por.loc[:,['tamanho']]\n",
    "y_train = train_por.loc[:,['preco']]\n",
    "y_test  = test_por.loc[:,['preco']]\n",
    "\n",
    "tree_tam = DecisionTreeRegressor().fit(X_train,y_train)\n",
    "r2_tam = r2_score(y,tree_tam.predict(X_tam))\n",
    "\n",
    "fig, axs = plt.subplots(2)\n",
    "\n",
    "\n",
    "T = np.linspace(min(X_train.values.ravel()),max(X_train.values.ravel()), 500 )[:, np.newaxis]\n",
    "axs[0].scatter(X_train, y,color='g')\n",
    "y_t = tree_tam.predict(T)\n",
    "axs[0].plot(T, y_t,color='b')\n",
    "\n",
    "axs[0].set(xlabel='Tamanho (pe2)',ylabel='Preço')\n",
    "\n",
    "\n",
    "\n",
    "T = np.linspace(min(X_test.values.ravel()),max(X_test.values.ravel()), 500 )[:, np.newaxis]\n",
    "axs[1].scatter(X_qua, y,color='g')\n",
    "y_t = tree_qua.predict(T)\n",
    "axs[1].plot(T, y_t,color='r')\n",
    "\n",
    "axs[1].set(xlabel='Quartos',ylabel='Preço')\n"
   ]
  },
  {
   "cell_type": "code",
   "execution_count": null,
   "metadata": {},
   "outputs": [],
   "source": []
  }
 ],
 "metadata": {
  "kernelspec": {
   "display_name": "Python 3",
   "language": "python",
   "name": "python3"
  },
  "language_info": {
   "codemirror_mode": {
    "name": "ipython",
    "version": 3
   },
   "file_extension": ".py",
   "mimetype": "text/x-python",
   "name": "python",
   "nbconvert_exporter": "python",
   "pygments_lexer": "ipython3",
   "version": "3.7.6"
  }
 },
 "nbformat": 4,
 "nbformat_minor": 2
}
