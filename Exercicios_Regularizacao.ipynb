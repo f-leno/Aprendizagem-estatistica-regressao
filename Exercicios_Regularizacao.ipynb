{
 "cells": [
  {
   "cell_type": "markdown",
   "metadata": {},
   "source": [
    "## Regularização\n",
    "\n",
    "Este exercício tem por objetivo estimular a prática de conceitos de regularização.\n",
    "\n",
    "Há duas opções para se fazer regularização com Regressão Linear:\n",
    "    \n",
    "```python\n",
    "linear = SGDRegressor(max_iter = 5000, alpha = 0.0001, eta0 = 0.01).fit(X,y)\n",
    "```\n",
    "\n",
    "onde alpha codifica o quanto de regularização será aplicada.\n",
    "\n",
    "Ou:\n",
    "    \n",
    "```python\n",
    "linear = Ridge(alpha=1.0).fit(X,y)\n",
    "```\n",
    "\n",
    "onde alpha codifica o quanto de regularização será aplicada.\n",
    "\n",
    "As duas implementações seguem escalas diferentes para alpha. <a href=\"https://scikit-learn.org/stable/modules/generated/sklearn.linear_model.SGDRegressor.html\">SGDRegressor</a> aplica descida do gradiente e <a href=\"https://scikit-learn.org/stable/modules/generated/sklearn.linear_model.Ridge.html#sklearn.linear_model.Ridge\">Ridge</a> aplica regularização no método de mínimos quadrados.\n",
    "\n",
    "Utilizaremos as mesmas bases de dados para experimentação\n"
   ]
  },
  {
   "cell_type": "code",
   "execution_count": null,
   "metadata": {},
   "outputs": [],
   "source": [
    "import pandas as pd\n",
    "from sklearn import preprocessing\n",
    "\n",
    "dados_adv = pd.read_csv('Advertising.csv', index_col=0)\n",
    "\n",
    "dados_por = pd.read_csv('Portland_housePrices.csv', index_col=None)\n",
    "\n",
    "#Normalizando entrada\n",
    "min_max_scaler = preprocessing.MinMaxScaler()\n",
    "dados_adv.loc[:,['TV','radio','newspaper']] = min_max_scaler.fit_transform(dados_adv.loc[:,['TV','radio','newspaper']].values) "
   ]
  },
  {
   "cell_type": "markdown",
   "metadata": {},
   "source": [
    "Primeiramente, dividiremos a base em conjuntos de teste e treinamento"
   ]
  },
  {
   "cell_type": "code",
   "execution_count": null,
   "metadata": {},
   "outputs": [],
   "source": [
    "import numpy as np\n",
    "#30% de teste, 70% de treinamento\n",
    "msk_adv = np.random.rand(len(dados_adv)) < 0.7\n",
    "msk_por = np.random.rand(len(dados_por)) < 0.7\n",
    "\n",
    "train_adv = dados_adv[msk_adv]\n",
    "test_adv = dados_adv[~msk_adv]\n",
    "\n",
    "train_por = dados_por[msk_por]\n",
    "test_por = dados_por[~msk_por]"
   ]
  },
  {
   "cell_type": "markdown",
   "metadata": {},
   "source": [
    "Como podemos saber se a regularização está mesmo afetando o modelo?\n",
    "\n",
    "Primeiramente, como baseline, testamos o modelo sem regressão nas bases de teste e treino (utilizaremos como métrica o erro quadrático médio <a href=\"https://scikit-learn.org/stable/modules/generated/sklearn.metrics.mean_squared_error.html\">mse</a>)."
   ]
  },
  {
   "cell_type": "code",
   "execution_count": null,
   "metadata": {},
   "outputs": [],
   "source": [
    "from sklearn.metrics import mean_squared_error\n",
    "from matplotlib import pyplot as plt\n",
    "from sklearn.linear_model import SGDRegressor\n",
    "import numpy as np\n",
    "\n",
    "\n",
    "#Separando os atributos das variáveis de resposta nos conjuntos\n",
    "X_train = train_adv.loc[:,['TV','radio','newspaper']]\n",
    "y_train = train_adv.loc[:,['sales']]\n",
    "\n",
    "X_test = test_adv.loc[:,['TV','radio','newspaper']]\n",
    "y_test = test_adv.loc[:,['sales']]\n",
    "\n",
    "\n",
    "\n",
    "#Treinando o modelo no conjunto de treino\n",
    "modelo = SGDRegressor(max_iter=10000).fit(X_train,y_train.values.ravel())\n",
    "#Predizendo o conjunto de teste\n",
    "y_pred = modelo.predict(X_test)\n",
    "\n",
    "#Calculando o erro de teste e de treino\n",
    "erro_train_baseline = mean_squared_error(y_train, modelo.predict(X_train))\n",
    "erro_test_baseline = mean_squared_error(y_test, y_pred)\n",
    "\n",
    "#Eixo X do gráfico, intervalo contínuo entre 0 e 1\n",
    "T = np.linspace(0., 1., num=100)\n",
    "\n",
    "\n",
    "plt.plot(T, [erro_train_baseline]*len(T),color='b',label='baseline_train')\n",
    "plt.plot(T, [erro_test_baseline]*len(T),color='g',label='baseline_test')\n",
    "plt.xlabel('alpha')\n",
    "plt.ylabel('mse')\n",
    "plt.legend()"
   ]
  },
  {
   "cell_type": "markdown",
   "metadata": {},
   "source": [
    "## Exercício 1\n",
    "Tomando como base o gráfico acima com o baseline sem Regularização, altere a codificação abaixo para calcular o erro de treino e teste do classificador linear com diferentes valores de alpha, imprimindo no gráfico os valores observados."
   ]
  },
  {
   "cell_type": "code",
   "execution_count": null,
   "metadata": {},
   "outputs": [],
   "source": [
    "from sklearn.linear_model import SGDRegressor\n",
    "#Eixo X do gráfico, intervalo contínuo entre 0 e 1\n",
    "T = np.linspace(0., 1., num=100)\n",
    "\n",
    "\n",
    "plt.plot(T, [erro_train_baseline]*len(T),color='b',label='baseline_train')\n",
    "plt.plot(T, [erro_test_baseline]*len(T),color='g',label='baseline_test')\n",
    "\n",
    "# alphas testados vão de 0 a 1, sempre checar a documentação da implementação para ver quais\n",
    "# valores fazem sentido\n",
    "alphas_test = np.linspace(0., 1., num=100)\n",
    "\n",
    "erros_train = []\n",
    "erros_test = []\n",
    "for alpha in alphas_test:\n",
    "    ##----------------------------------------------------\n",
    "    #Implementar aqui o treinamento do modelo regularizado\n",
    "    modelo_regularizado =  None #Instanciação do modelo\n",
    "    y_pred = modelo_regularizado.predict(X_test)\n",
    "    #Cálcule os erros e adicione à erros_train e erros_test\n",
    "    erros_train.append(None)\n",
    "    erros_test.append(None)\n",
    "    ##----------------------------------------------------\n",
    "    \n",
    "    \n",
    "plt.plot(alphas_test, erros_train,color='y',label='regularizado_train')\n",
    "plt.plot(alphas_test, erros_test,color='r',label='regularizado_test')    \n",
    "\n",
    "\n",
    "plt.xlabel('alpha')\n",
    "plt.ylabel('mse')\n",
    "plt.legend()\n",
    "\n"
   ]
  },
  {
   "cell_type": "markdown",
   "metadata": {},
   "source": [
    "## Exercício 2\n",
    "\n",
    "1) Com base nos resultados observados, é possível afirmar que o classificador sem regulização estava em overfitting?\n",
    "\n",
    "2) Verifique agora a outra base de dados, a resposta é a mesma?"
   ]
  },
  {
   "cell_type": "code",
   "execution_count": null,
   "metadata": {},
   "outputs": [],
   "source": []
  },
  {
   "cell_type": "markdown",
   "metadata": {},
   "source": [
    "## Regularização com Árvore\n",
    "É possível aplicar regularização na árvore de muitas maneiras:\n",
    "   \n",
    "```python\n",
    "tree = DecisionTreeRegressor(max_depth = None, min_samples_split = 2, \n",
    "                             min_samples_leaf=1, max_leaf_nodes = None).fit(X,y)\n",
    "```\n",
    "<i>max_depth</i> - Maior altura permitida para a árvore, a regularização será realizada limitando o tamanho\n",
    "\n",
    "<i>min_samples_split</i> - Impede criar um nó na árvore que particiona os dados se houver um número menor de amostras para aquela partição que este parâmetro\n",
    "\n",
    "<i>min_samples_leaf</i> - Nenhum novo nó folha é criado de modo a ser o classificador de menos exemplos que esse parâmetro\n",
    "\n",
    "<i>max_leaf_nodes</i> - Número máximo de folhas para a árvore\n",
    "\n",
    "## Exercício 3\n",
    "\n",
    "1) Faça o mesmo tipo de análise para a árvore, alterando o valor dos parâmetros e observando o erro (Opcionalmente, observe como diferentes parâmetros afetam a árvore resultante)\n",
    "\n",
    "2) Qual parâmetro é mais simples de alterar e se observar um resultado bom?\n",
    "\n",
    "3) Foi possível obter um resultado melhor com regularização do que sem? Qual é a sua hipótese para explicar os resultados?\n",
    "    "
   ]
  },
  {
   "cell_type": "code",
   "execution_count": 1,
   "metadata": {},
   "outputs": [
    {
     "data": {
      "text/plain": [
       "<matplotlib.legend.Legend at 0x7fe1d9e5f110>"
      ]
     },
     "execution_count": 1,
     "metadata": {},
     "output_type": "execute_result"
    },
    {
     "data": {
      "image/png": "[encoded data removed]",
      "text/plain": [
       "<Figure size 432x288 with 1 Axes>"
      ]
     },
     "metadata": {
      "needs_background": "light"
     },
     "output_type": "display_data"
    }
   ],
   "source": [
    "#Árvore não requer normalização\n",
    "import pandas as pd\n",
    "from sklearn import preprocessing\n",
    "from sklearn.tree import DecisionTreeRegressor\n",
    "from sklearn.metrics import mean_squared_error\n",
    "from matplotlib import pyplot as plt\n",
    "\n",
    "dados_adv = pd.read_csv('Advertising.csv', index_col=0)\n",
    "\n",
    "dados_por = pd.read_csv('Portland_housePrices.csv', index_col=None)\n",
    "import numpy as np\n",
    "\n",
    "#30% de teste, 70% de treinamento\n",
    "msk_adv = np.random.rand(len(dados_adv)) < 0.7\n",
    "msk_por = np.random.rand(len(dados_por)) < 0.7\n",
    "\n",
    "train_adv = dados_adv[msk_adv]\n",
    "test_adv = dados_adv[~msk_adv]\n",
    "\n",
    "train_por = dados_por[msk_por]\n",
    "test_por = dados_por[~msk_por]\n",
    "\n",
    "#Separando os atributos das variáveis de resposta nos conjuntos\n",
    "X_train = train_adv.loc[:,['TV','radio','newspaper']]\n",
    "y_train = train_adv.loc[:,['sales']]\n",
    "\n",
    "X_test = test_adv.loc[:,['TV','radio','newspaper']]\n",
    "y_test = test_adv.loc[:,['sales']]\n",
    "\n",
    "\n",
    "\n",
    "#Treinando o modelo no conjunto de treino\n",
    "modelo = DecisionTreeRegressor().fit(X_train,y_train.values.ravel())\n",
    "#Predizendo o conjunto de teste\n",
    "y_pred = modelo.predict(X_test)\n",
    "\n",
    "#Calculando o erro de teste e de treino\n",
    "erro_train_baseline = mean_squared_error(y_train, modelo.predict(X_train))\n",
    "erro_test_baseline = mean_squared_error(y_test, y_pred)\n",
    "\n",
    "\n",
    "T = np.linspace(1., 100., num=100)\n",
    "\n",
    "#Exemplo com max depth\n",
    "plt.plot(T, [erro_train_baseline]*len(T),color='b',label='baseline_train')\n",
    "plt.plot(T, [erro_test_baseline]*len(T),color='g',label='baseline_test')\n",
    "plt.xlabel('max depth')\n",
    "plt.ylabel('mse')\n",
    "plt.legend()"
   ]
  },
  {
   "cell_type": "code",
   "execution_count": null,
   "metadata": {},
   "outputs": [],
   "source": []
  },
  {
   "cell_type": "code",
   "execution_count": null,
   "metadata": {},
   "outputs": [],
   "source": []
  }
 ],
 "metadata": {
  "kernelspec": {
   "display_name": "Python 3",
   "language": "python",
   "name": "python3"
  },
  "language_info": {
   "codemirror_mode": {
    "name": "ipython",
    "version": 3
   },
   "file_extension": ".py",
   "mimetype": "text/x-python",
   "name": "python",
   "nbconvert_exporter": "python",
   "pygments_lexer": "ipython3",
   "version": "3.7.6"
  }
 },
 "nbformat": 4,
 "nbformat_minor": 2
}
